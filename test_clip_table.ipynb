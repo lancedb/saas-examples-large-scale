{
 "cells": [
  {
   "cell_type": "code",
   "execution_count": null,
   "id": "2e36a3b5-fd57-4231-9f3f-d9ca18dc56a3",
   "metadata": {},
   "outputs": [],
   "source": [
    "import lancedb\n",
    "db = lancedb.connect(\n",
    "    uri=\"db://devrel-samp-9a5467\",\n",
    "    api_key=\"sk_THUBNC75R5AYPMMRMUV6SEPWWLSPXY7ZSKVQPUUFVCOOQGYKGUKA====\",\n",
    "    region=\"us-east-1\"\n",
    ")\n",
    "tbl = db.open_table(\"artworks-clip-base-embed-api\")"
   ]
  },
  {
   "cell_type": "code",
   "execution_count": null,
   "id": "61cc2ba6-c94a-4309-b399-9cb4666ac49d",
   "metadata": {},
   "outputs": [],
   "source": [
    "from fastapi import FastAPI, UploadFile, File\n",
    "from fastapi.middleware.cors import CORSMiddleware\n",
    "import lancedb\n",
    "from pydantic import BaseModel\n",
    "from typing import List\n",
    "import numpy as np\n",
    "from PIL import Image\n",
    "import io\n",
    "from transformers import AutoProcessor, AutoModel\n",
    "import torch\n",
    "import base64\n",
    "\n",
    "processor = AutoProcessor.from_pretrained(\"google/siglip-base-patch16-224\")\n",
    "model = AutoModel.from_pretrained(\"google/siglip-base-patch16-224\")\n",
    "device = \"cuda\" if torch.cuda.is_available() else \"cpu\"\n",
    "model = model.to(device)\n"
   ]
  },
  {
   "cell_type": "code",
   "execution_count": null,
   "id": "a64322f9-a8b2-4cda-882a-e596e9edee04",
   "metadata": {},
   "outputs": [],
   "source": [
    "from PIL import Image\n",
    "img = Image.open(\"240609.jpg\")\n",
    "img"
   ]
  },
  {
   "cell_type": "code",
   "execution_count": null,
   "id": "18bc40f2-ffaf-405a-a023-9dcc3837e65e",
   "metadata": {},
   "outputs": [],
   "source": [
    "import open_clip\n",
    "model, _, preprocess = open_clip.create_model_and_transforms('ViT-B-32', pretrained='laion2b_s34b_b79k')\n",
    "tokenizer = open_clip.get_tokenizer('ViT-B-32')\n"
   ]
  },
  {
   "cell_type": "code",
   "execution_count": null,
   "id": "30aa6bc8-4350-46b6-b050-2c65485cb323",
   "metadata": {},
   "outputs": [],
   "source": [
    "img = preprocess(Image.open(\"pic.jpeg\")).unsqueeze(0)\n",
    "image_features = model.encode_image(img)\n",
    "image_features /= image_features.norm(dim=-1, keepdim=True)"
   ]
  },
  {
   "cell_type": "code",
   "execution_count": null,
   "id": "7aaa1016-a132-4691-9856-c4a1f8138700",
   "metadata": {},
   "outputs": [],
   "source": [
    "text = tokenizer(\"Figure of Admiral George Rodney\")\n",
    "text_features = model.encode_text(text)\n",
    "text_features /= text_features.norm(dim=-1, keepdim=True)"
   ]
  },
  {
   "cell_type": "code",
   "execution_count": null,
   "id": "c126b21a-5433-4386-b87d-cef849e92923",
   "metadata": {},
   "outputs": [],
   "source": [
    "import io\n",
    "results = tbl.search(text_features.detach().numpy().tolist()[0]).limit(5).to_pandas()\n",
    "imgs =  results['img'].apply(\n",
    "        lambda x: Image.open(io.BytesIO(x))\n",
    "    )\n",
    "imgs"
   ]
  },
  {
   "cell_type": "code",
   "execution_count": null,
   "id": "8a66100a-a217-48a1-85c8-19b861d17fbb",
   "metadata": {},
   "outputs": [],
   "source": [
    "results[\"title\"]"
   ]
  },
  {
   "cell_type": "code",
   "execution_count": null,
   "id": "559d23fe-acf0-41fb-8046-e21252fe3723",
   "metadata": {},
   "outputs": [],
   "source": [
    "imgs[0]"
   ]
  },
  {
   "cell_type": "code",
   "execution_count": null,
   "id": "10f170b0-5789-44c2-9acf-3a29bd0702b8",
   "metadata": {},
   "outputs": [],
   "source": [
    "imgs[1]"
   ]
  },
  {
   "cell_type": "code",
   "execution_count": null,
   "id": "9c2616b3-2e9c-469b-b262-8fb3ef3c8568",
   "metadata": {},
   "outputs": [],
   "source": [
    "(await tbl._table._inner.schema()).metadata"
   ]
  },
  {
   "cell_type": "code",
   "execution_count": null,
   "id": "c537c3fa-2a83-48a4-94b4-2c947cd8b69a",
   "metadata": {},
   "outputs": [],
   "source": [
    "results['object_id']"
   ]
  },
  {
   "cell_type": "code",
   "execution_count": null,
   "id": "eed51cae-7521-4cd8-82c1-2bcbb31dc231",
   "metadata": {},
   "outputs": [],
   "source": [
    "!uv pip install open-clip-torch"
   ]
  },
  {
   "cell_type": "code",
   "execution_count": null,
   "id": "13b5ad96-a418-4ad0-aac7-809b99c9e94d",
   "metadata": {},
   "outputs": [],
   "source": [
    "import open_clip\n",
    "open_clip.list_pretrained()"
   ]
  },
  {
   "cell_type": "code",
   "execution_count": null,
   "id": "d43905ce-ffd0-4278-a012-c77edd303228",
   "metadata": {},
   "outputs": [],
   "source": [
    "model, _, preprocess = open_clip.create_model_and_transforms('ViT-SO400M-14-SigLIP-384', pretrained='webli') \n"
   ]
  },
  {
   "cell_type": "code",
   "execution_count": null,
   "id": "c795970f-6416-4392-916e-86747a0feeb5",
   "metadata": {},
   "outputs": [],
   "source": [
    "li = [1,2,3,4,5]"
   ]
  },
  {
   "cell_type": "code",
   "execution_count": null,
   "id": "862f3a16-accb-496b-a5ae-e20857c77955",
   "metadata": {},
   "outputs": [],
   "source": [
    "li.index(2)"
   ]
  },
  {
   "cell_type": "code",
   "execution_count": null,
   "id": "baddb57c-6b6f-46f0-a5dd-13640671e9fe",
   "metadata": {},
   "outputs": [],
   "source": []
  }
 ],
 "metadata": {
  "kernelspec": {
   "display_name": "Python 3 (ipykernel)",
   "language": "python",
   "name": "python3"
  },
  "language_info": {
   "codemirror_mode": {
    "name": "ipython",
    "version": 3
   },
   "file_extension": ".py",
   "mimetype": "text/x-python",
   "name": "python",
   "nbconvert_exporter": "python",
   "pygments_lexer": "ipython3",
   "version": "3.13.2"
  }
 },
 "nbformat": 4,
 "nbformat_minor": 5
}
